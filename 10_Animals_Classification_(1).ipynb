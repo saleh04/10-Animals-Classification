{
  "nbformat": 4,
  "nbformat_minor": 0,
  "metadata": {
    "colab": {
      "provenance": [],
      "gpuType": "T4"
    },
    "kernelspec": {
      "name": "python3",
      "display_name": "Python 3"
    },
    "language_info": {
      "name": "python"
    },
    "accelerator": "GPU"
  },
  "cells": [
    {
      "cell_type": "markdown",
      "source": [
        "# **Dataset Download & Extraction**"
      ],
      "metadata": {
        "id": "zW2LHDCUABwA"
      }
    },
    {
      "cell_type": "code",
      "execution_count": null,
      "metadata": {
        "colab": {
          "base_uri": "https://localhost:8080/",
          "height": 106
        },
        "id": "b6Avz8Qn9UV0",
        "outputId": "a8f253c0-c643-4fea-e788-a9afc6dc6f23"
      },
      "outputs": [
        {
          "output_type": "display_data",
          "data": {
            "text/plain": [
              "<IPython.core.display.HTML object>"
            ],
            "text/html": [
              "\n",
              "     <input type=\"file\" id=\"files-4220024d-adc6-4a5e-81a2-641a5b8c77fa\" name=\"files[]\" multiple disabled\n",
              "        style=\"border:none\" />\n",
              "     <output id=\"result-4220024d-adc6-4a5e-81a2-641a5b8c77fa\">\n",
              "      Upload widget is only available when the cell has been executed in the\n",
              "      current browser session. Please rerun this cell to enable.\n",
              "      </output>\n",
              "      <script>// Copyright 2017 Google LLC\n",
              "//\n",
              "// Licensed under the Apache License, Version 2.0 (the \"License\");\n",
              "// you may not use this file except in compliance with the License.\n",
              "// You may obtain a copy of the License at\n",
              "//\n",
              "//      http://www.apache.org/licenses/LICENSE-2.0\n",
              "//\n",
              "// Unless required by applicable law or agreed to in writing, software\n",
              "// distributed under the License is distributed on an \"AS IS\" BASIS,\n",
              "// WITHOUT WARRANTIES OR CONDITIONS OF ANY KIND, either express or implied.\n",
              "// See the License for the specific language governing permissions and\n",
              "// limitations under the License.\n",
              "\n",
              "/**\n",
              " * @fileoverview Helpers for google.colab Python module.\n",
              " */\n",
              "(function(scope) {\n",
              "function span(text, styleAttributes = {}) {\n",
              "  const element = document.createElement('span');\n",
              "  element.textContent = text;\n",
              "  for (const key of Object.keys(styleAttributes)) {\n",
              "    element.style[key] = styleAttributes[key];\n",
              "  }\n",
              "  return element;\n",
              "}\n",
              "\n",
              "// Max number of bytes which will be uploaded at a time.\n",
              "const MAX_PAYLOAD_SIZE = 100 * 1024;\n",
              "\n",
              "function _uploadFiles(inputId, outputId) {\n",
              "  const steps = uploadFilesStep(inputId, outputId);\n",
              "  const outputElement = document.getElementById(outputId);\n",
              "  // Cache steps on the outputElement to make it available for the next call\n",
              "  // to uploadFilesContinue from Python.\n",
              "  outputElement.steps = steps;\n",
              "\n",
              "  return _uploadFilesContinue(outputId);\n",
              "}\n",
              "\n",
              "// This is roughly an async generator (not supported in the browser yet),\n",
              "// where there are multiple asynchronous steps and the Python side is going\n",
              "// to poll for completion of each step.\n",
              "// This uses a Promise to block the python side on completion of each step,\n",
              "// then passes the result of the previous step as the input to the next step.\n",
              "function _uploadFilesContinue(outputId) {\n",
              "  const outputElement = document.getElementById(outputId);\n",
              "  const steps = outputElement.steps;\n",
              "\n",
              "  const next = steps.next(outputElement.lastPromiseValue);\n",
              "  return Promise.resolve(next.value.promise).then((value) => {\n",
              "    // Cache the last promise value to make it available to the next\n",
              "    // step of the generator.\n",
              "    outputElement.lastPromiseValue = value;\n",
              "    return next.value.response;\n",
              "  });\n",
              "}\n",
              "\n",
              "/**\n",
              " * Generator function which is called between each async step of the upload\n",
              " * process.\n",
              " * @param {string} inputId Element ID of the input file picker element.\n",
              " * @param {string} outputId Element ID of the output display.\n",
              " * @return {!Iterable<!Object>} Iterable of next steps.\n",
              " */\n",
              "function* uploadFilesStep(inputId, outputId) {\n",
              "  const inputElement = document.getElementById(inputId);\n",
              "  inputElement.disabled = false;\n",
              "\n",
              "  const outputElement = document.getElementById(outputId);\n",
              "  outputElement.innerHTML = '';\n",
              "\n",
              "  const pickedPromise = new Promise((resolve) => {\n",
              "    inputElement.addEventListener('change', (e) => {\n",
              "      resolve(e.target.files);\n",
              "    });\n",
              "  });\n",
              "\n",
              "  const cancel = document.createElement('button');\n",
              "  inputElement.parentElement.appendChild(cancel);\n",
              "  cancel.textContent = 'Cancel upload';\n",
              "  const cancelPromise = new Promise((resolve) => {\n",
              "    cancel.onclick = () => {\n",
              "      resolve(null);\n",
              "    };\n",
              "  });\n",
              "\n",
              "  // Wait for the user to pick the files.\n",
              "  const files = yield {\n",
              "    promise: Promise.race([pickedPromise, cancelPromise]),\n",
              "    response: {\n",
              "      action: 'starting',\n",
              "    }\n",
              "  };\n",
              "\n",
              "  cancel.remove();\n",
              "\n",
              "  // Disable the input element since further picks are not allowed.\n",
              "  inputElement.disabled = true;\n",
              "\n",
              "  if (!files) {\n",
              "    return {\n",
              "      response: {\n",
              "        action: 'complete',\n",
              "      }\n",
              "    };\n",
              "  }\n",
              "\n",
              "  for (const file of files) {\n",
              "    const li = document.createElement('li');\n",
              "    li.append(span(file.name, {fontWeight: 'bold'}));\n",
              "    li.append(span(\n",
              "        `(${file.type || 'n/a'}) - ${file.size} bytes, ` +\n",
              "        `last modified: ${\n",
              "            file.lastModifiedDate ? file.lastModifiedDate.toLocaleDateString() :\n",
              "                                    'n/a'} - `));\n",
              "    const percent = span('0% done');\n",
              "    li.appendChild(percent);\n",
              "\n",
              "    outputElement.appendChild(li);\n",
              "\n",
              "    const fileDataPromise = new Promise((resolve) => {\n",
              "      const reader = new FileReader();\n",
              "      reader.onload = (e) => {\n",
              "        resolve(e.target.result);\n",
              "      };\n",
              "      reader.readAsArrayBuffer(file);\n",
              "    });\n",
              "    // Wait for the data to be ready.\n",
              "    let fileData = yield {\n",
              "      promise: fileDataPromise,\n",
              "      response: {\n",
              "        action: 'continue',\n",
              "      }\n",
              "    };\n",
              "\n",
              "    // Use a chunked sending to avoid message size limits. See b/62115660.\n",
              "    let position = 0;\n",
              "    do {\n",
              "      const length = Math.min(fileData.byteLength - position, MAX_PAYLOAD_SIZE);\n",
              "      const chunk = new Uint8Array(fileData, position, length);\n",
              "      position += length;\n",
              "\n",
              "      const base64 = btoa(String.fromCharCode.apply(null, chunk));\n",
              "      yield {\n",
              "        response: {\n",
              "          action: 'append',\n",
              "          file: file.name,\n",
              "          data: base64,\n",
              "        },\n",
              "      };\n",
              "\n",
              "      let percentDone = fileData.byteLength === 0 ?\n",
              "          100 :\n",
              "          Math.round((position / fileData.byteLength) * 100);\n",
              "      percent.textContent = `${percentDone}% done`;\n",
              "\n",
              "    } while (position < fileData.byteLength);\n",
              "  }\n",
              "\n",
              "  // All done.\n",
              "  yield {\n",
              "    response: {\n",
              "      action: 'complete',\n",
              "    }\n",
              "  };\n",
              "}\n",
              "\n",
              "scope.google = scope.google || {};\n",
              "scope.google.colab = scope.google.colab || {};\n",
              "scope.google.colab._files = {\n",
              "  _uploadFiles,\n",
              "  _uploadFilesContinue,\n",
              "};\n",
              "})(self);\n",
              "</script> "
            ]
          },
          "metadata": {}
        },
        {
          "output_type": "stream",
          "name": "stdout",
          "text": [
            "Saving kaggle.json to kaggle.json\n",
            "Dataset URL: https://www.kaggle.com/datasets/alessiocorrado99/animals10\n",
            "License(s): GPL-2.0\n"
          ]
        }
      ],
      "source": [
        "from google.colab import files\n",
        "files.upload()\n",
        "\n",
        "!mkdir -p ~/.kaggle\n",
        "!cp kaggle.json ~/.kaggle/\n",
        "!chmod 600 ~/.kaggle/kaggle.json\n",
        "\n",
        "!kaggle datasets download -d alessiocorrado99/animals10\n",
        "!unzip -q animals10.zip -d animals10"
      ]
    },
    {
      "cell_type": "markdown",
      "source": [
        "# **Importing Libraries**\n",
        "\n",
        "This section includes all the essential libraries for data handling, visualization, image preprocessing, and building the convolutional neural network (CNN) model.\n"
      ],
      "metadata": {
        "id": "1y4r75Ns_4Q0"
      }
    },
    {
      "cell_type": "code",
      "source": [
        "import numpy as np\n",
        "import pandas as pd\n",
        "import os\n",
        "import glob\n",
        "import random\n",
        "import matplotlib.pyplot as plt\n",
        "import matplotlib.image as mpimg\n",
        "import seaborn as sns\n",
        "import cv2\n",
        "import tensorflow as tf\n",
        "\n",
        "from sklearn.model_selection import train_test_split\n",
        "from tensorflow.keras.applications import ResNet50\n",
        "from sklearn.metrics import confusion_matrix, classification_report\n",
        "from tensorflow.keras.applications.resnet50 import preprocess_input as resnet_preprocess\n",
        "from tensorflow.keras.models import Sequential\n",
        "from sklearn.metrics import classification_report, confusion_matrix\n",
        "from tensorflow.keras import layers, models\n",
        "from tensorflow.keras.optimizers import Adam\n",
        "from tensorflow.keras.regularizers import l2\n",
        "from tensorflow.keras.callbacks import EarlyStopping, ModelCheckpoint, ReduceLROnPlateau\n"
      ],
      "metadata": {
        "id": "U0Zh9XIc9efe"
      },
      "execution_count": null,
      "outputs": []
    },
    {
      "cell_type": "markdown",
      "source": [
        "# **Loading Image Paths and Labels**\n",
        "\n",
        "Gather all image paths and assign class labels. Italian class names are mapped to English."
      ],
      "metadata": {
        "id": "diTAxxC7AOFX"
      }
    },
    {
      "cell_type": "markdown",
      "source": [
        "# **Class Distribution**\n",
        "\n",
        "This pie chart shows the proportion of images in each class within the Animals-10 dataset.  \n",
        "It helps assess class imbalance.\n",
        "\n",
        "- The dataset is relatively imbalanced.\n",
        "- The \"dog\" and \"spider\" classes dominate, each contributing nearly 18% of the data.\n",
        "- The \"elephant\" and \"cat\" classes are underrepresented.\n"
      ],
      "metadata": {
        "id": "zB4iC9izAwpN"
      }
    },
    {
      "cell_type": "markdown",
      "source": [
        "# **Visualizing Random Sample Images**\n",
        "\n",
        "Display one random image from each class to get an overview of the dataset content."
      ],
      "metadata": {
        "id": "cutslQzJBG5F"
      }
    },
    {
      "cell_type": "markdown",
      "source": [
        "# **Histogram Equalization**\n",
        "\n",
        "Apply histogram equalization on the Y channel (brightness) of each image to enhance contrast and improve model performance.\n"
      ],
      "metadata": {
        "id": "RhxTbsYtBdHC"
      }
    },
    {
      "cell_type": "markdown",
      "source": [
        "# **Splitting Dataset**\n",
        "\n",
        "Split the dataset into training (80%), validation (10%), and test (10%) sets, ensuring class balance using stratification.\n"
      ],
      "metadata": {
        "id": "L_gHk4GsBt9C"
      }
    },
    {
      "cell_type": "markdown",
      "source": [
        "# **Image Preprocessing Function**\n",
        "\n",
        "Define a function to decode, resize, normalize, and augment images. This will be used by TensorFlow Datasets.\n"
      ],
      "metadata": {
        "id": "y82cXIY0B2EF"
      }
    },
    {
      "cell_type": "markdown",
      "source": [
        "# **Creating TensorFlow Dataset Pipelines**\n",
        "\n",
        "Wrap the DataFrames into efficient, batched TensorFlow datasets ready for model training and evaluation.\n"
      ],
      "metadata": {
        "id": "qJKpgoR0CF2K"
      }
    },
    {
      "cell_type": "markdown",
      "source": [
        "# **CNN Model**\n",
        "\n"
      ],
      "metadata": {
        "id": "W7DpZVPTCU3Q"
      }
    },
    {
      "cell_type": "markdown",
      "source": [
        "## Definition\n",
        "Build a deep CNN model with 3 convolutional blocks, batch normalization, dropout regularization, and a dense classification head."
      ],
      "metadata": {
        "id": "PE1Vb1j-qvAI"
      }
    },
    {
      "cell_type": "markdown",
      "source": [
        "## **Training and Callbacks**\n",
        "In this section, we build and train a Convolutional Neural Network (CNN) model for animal image classification.\n",
        "\n",
        "####   Dataset Preparation\n",
        "We first prepare the training, validation, and test datasets using the `create_dataset`"
      ],
      "metadata": {
        "id": "Zv7kI_O_rOmo"
      }
    },
    {
      "cell_type": "markdown",
      "source": [
        "## **Model Evaluation on Test Set**\n",
        "\n",
        "Evaluate the performance of the CNN model on the test dataset."
      ],
      "metadata": {
        "id": "nHzIYyh7svQH"
      }
    },
    {
      "cell_type": "markdown",
      "source": [
        "###  **Predicting Labels**\n",
        "We generate predictions for each batch in the test set:"
      ],
      "metadata": {
        "id": "mnlQ0fY6tMA_"
      }
    },
    {
      "cell_type": "markdown",
      "source": [
        "### **Confusion Matrix**\n",
        "\n",
        "\n",
        "*   Visualizes how well the model distinguishes between classes.\n",
        "\n",
        "*   Helps identify which classes are commonly confused.\n",
        "\n",
        "\n"
      ],
      "metadata": {
        "id": "LFbIcfoYtUXG"
      }
    },
    {
      "cell_type": "markdown",
      "source": [
        "### **Classification Report**\n",
        "*   Displays precision, recall, F1-score, and support for each class.\n",
        "\n",
        "*   Useful for understanding per-class performance."
      ],
      "metadata": {
        "id": "n_bunp2Zt3Xg"
      }
    },
    {
      "cell_type": "markdown",
      "source": [
        "# **ResNet50**"
      ],
      "metadata": {
        "id": "Yz3q6GdTuMm_"
      }
    },
    {
      "cell_type": "markdown",
      "source": [
        "## **Building a Transfer Learning Model with ResNet50**\n",
        "\n",
        "Define a function to build a CNN classifier using **ResNet50** as a base model for transfer learning."
      ],
      "metadata": {
        "id": "NjjGRsEVuTCW"
      }
    },
    {
      "cell_type": "markdown",
      "source": [
        "## **Training ResNet50**\n"
      ],
      "metadata": {
        "id": "HJPAOQ9LuoFB"
      }
    },
    {
      "cell_type": "markdown",
      "source": [
        "## **Model Evaluation on Test Set**\n",
        "\n",
        "Evaluate the performance of the ResNet50 model on the test dataset."
      ],
      "metadata": {
        "id": "zvX1agWQu_y-"
      }
    },
    {
      "cell_type": "markdown",
      "source": [
        "###  **Predicting Labels**\n",
        "We generate predictions for each batch in the test set:"
      ],
      "metadata": {
        "id": "DZ-APj04vRIt"
      }
    },
    {
      "cell_type": "markdown",
      "source": [
        "### **Confusion Matrix**\n",
        "\n",
        "\n",
        "*   Visualizes how well the model distinguishes between classes.\n",
        "\n",
        "*   Helps identify which classes are commonly confused."
      ],
      "metadata": {
        "id": "C6YyyEouvSkW"
      }
    },
    {
      "cell_type": "markdown",
      "source": [
        "### **Classification Report**\n",
        "*   Displays precision, recall, F1-score, and support for each class.\n",
        "\n",
        "*   Useful for understanding per-class performance."
      ],
      "metadata": {
        "id": "X6_GDOXuvXGY"
      }
    },
    {
      "cell_type": "markdown",
      "source": [
        "# **Predicting and Displaying a Single Image**\n",
        "\n",
        "In this section, we use our trained model to make a prediction on a new image.\n",
        "\n",
        "- The image is loaded and prepared just like the training images.\n",
        "- The model then predicts which class (animal) the image most likely belongs to.\n",
        "- The result is shown visually with the image and the predicted label displayed on top.\n",
        "\n",
        "This is a simple way to test the model on any image and see how well it performs!"
      ],
      "metadata": {
        "id": "dVZmkpXp6x-Z"
      }
    },
    {
      "cell_type": "code",
      "source": [],
      "metadata": {
        "id": "z0SYIPtu5bD7"
      },
      "execution_count": null,
      "outputs": []
    }
  ]
}